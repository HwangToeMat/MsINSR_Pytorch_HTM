{
  "nbformat": 4,
  "nbformat_minor": 0,
  "metadata": {
    "accelerator": "TPU",
    "colab": {
      "name": "Get_data_for_colab.ipynb",
      "provenance": [],
      "toc_visible": true
    },
    "kernelspec": {
      "display_name": "Python 3",
      "language": "python",
      "name": "python3"
    },
    "language_info": {
      "codemirror_mode": {
        "name": "ipython",
        "version": 3
      },
      "file_extension": ".py",
      "mimetype": "text/x-python",
      "name": "python",
      "nbconvert_exporter": "python",
      "pygments_lexer": "ipython3",
      "version": "3.7.2"
    }
  },
  "cells": [
    {
      "cell_type": "markdown",
      "metadata": {
        "colab_type": "text",
        "id": "QJ4sSTzDWAao"
      },
      "source": [
        "# Mount google drive"
      ]
    },
    {
      "cell_type": "code",
      "metadata": {
        "colab_type": "code",
        "id": "KCd2ZuS4V6Z0",
        "colab": {
          "base_uri": "https://localhost:8080/",
          "height": 143
        },
        "outputId": "687bfc36-2d42-4648-f50c-fd96bab05731"
      },
      "source": [
        "from google.colab import drive\n",
        "import os\n",
        "drive.mount('/content/gdrive')\n",
        "os.chdir('/content/gdrive/My Drive/Code/MsINSR_Pytorch_HTM')\n",
        "_path = os.getcwd()\n",
        "_path"
      ],
      "execution_count": 1,
      "outputs": [
        {
          "output_type": "stream",
          "text": [
            "Go to this URL in a browser: https://accounts.google.com/o/oauth2/auth?client_id=947318989803-6bn6qk8qdgf4n4g3pfee6491hc0brc4i.apps.googleusercontent.com&redirect_uri=urn%3aietf%3awg%3aoauth%3a2.0%3aoob&response_type=code&scope=email%20https%3a%2f%2fwww.googleapis.com%2fauth%2fdocs.test%20https%3a%2f%2fwww.googleapis.com%2fauth%2fdrive%20https%3a%2f%2fwww.googleapis.com%2fauth%2fdrive.photos.readonly%20https%3a%2f%2fwww.googleapis.com%2fauth%2fpeopleapi.readonly\n",
            "\n",
            "Enter your authorization code:\n",
            "··········\n",
            "Mounted at /content/gdrive\n"
          ],
          "name": "stdout"
        },
        {
          "output_type": "execute_result",
          "data": {
            "text/plain": [
              "'/content/gdrive/My Drive/Code/MsINSR_Pytorch_HTM'"
            ]
          },
          "metadata": {
            "tags": []
          },
          "execution_count": 1
        }
      ]
    },
    {
      "cell_type": "markdown",
      "metadata": {
        "colab_type": "text",
        "id": "aJCKjYk-MA-p"
      },
      "source": [
        "\n",
        "## Get data\n"
      ]
    },
    {
      "cell_type": "code",
      "metadata": {
        "colab_type": "code",
        "id": "ytGnfdDo77l-",
        "colab": {
          "base_uri": "https://localhost:8080/",
          "height": 1000
        },
        "outputId": "77da1ede-c14b-46cc-bb7d-85f83111a42e"
      },
      "source": [
        "!wget http://data.vision.ee.ethz.ch/cvl/DIV2K/DIV2K_train_LR_bicubic_X2.zip\n",
        "!wget http://data.vision.ee.ethz.ch/cvl/DIV2K/DIV2K_valid_LR_bicubic_X2.zip\n",
        "!wget http://data.vision.ee.ethz.ch/cvl/DIV2K/DIV2K_train_LR_bicubic_X3.zip\n",
        "!wget http://data.vision.ee.ethz.ch/cvl/DIV2K/DIV2K_valid_LR_bicubic_X3.zip\n",
        "!wget http://data.vision.ee.ethz.ch/cvl/DIV2K/DIV2K_train_LR_bicubic_X4.zip\n",
        "!wget http://data.vision.ee.ethz.ch/cvl/DIV2K/DIV2K_valid_LR_bicubic_X4.zip\n",
        "!wget http://data.vision.ee.ethz.ch/cvl/DIV2K/DIV2K_train_LR_x8.zip\n",
        "!wget http://data.vision.ee.ethz.ch/cvl/DIV2K/DIV2K_valid_LR_x8.zip\n",
        "!wget http://data.vision.ee.ethz.ch/cvl/DIV2K/DIV2K_train_HR.zip\n",
        "!wget http://data.vision.ee.ethz.ch/cvl/DIV2K/DIV2K_valid_HR.zip"
      ],
      "execution_count": 2,
      "outputs": [
        {
          "output_type": "stream",
          "text": [
            "--2019-11-18 17:53:09--  http://data.vision.ee.ethz.ch/cvl/DIV2K/DIV2K_train_LR_bicubic_X2.zip\n",
            "Resolving data.vision.ee.ethz.ch (data.vision.ee.ethz.ch)... 129.132.52.162\n",
            "Connecting to data.vision.ee.ethz.ch (data.vision.ee.ethz.ch)|129.132.52.162|:80... connected.\n",
            "HTTP request sent, awaiting response... 302 Found\n",
            "Location: https://data.vision.ee.ethz.ch/cvl/DIV2K/DIV2K_train_LR_bicubic_X2.zip [following]\n",
            "--2019-11-18 17:53:09--  https://data.vision.ee.ethz.ch/cvl/DIV2K/DIV2K_train_LR_bicubic_X2.zip\n",
            "Connecting to data.vision.ee.ethz.ch (data.vision.ee.ethz.ch)|129.132.52.162|:443... connected.\n",
            "HTTP request sent, awaiting response... 200 OK\n",
            "Length: 925390592 (883M) [application/zip]\n",
            "Saving to: ‘DIV2K_train_LR_bicubic_X2.zip’\n",
            "\n",
            "DIV2K_train_LR_bicu 100%[===================>] 882.52M  11.0MB/s    in 79s     \n",
            "\n",
            "2019-11-18 17:54:29 (11.2 MB/s) - ‘DIV2K_train_LR_bicubic_X2.zip’ saved [925390592/925390592]\n",
            "\n",
            "--2019-11-18 17:54:30--  http://data.vision.ee.ethz.ch/cvl/DIV2K/DIV2K_valid_LR_bicubic_X2.zip\n",
            "Resolving data.vision.ee.ethz.ch (data.vision.ee.ethz.ch)... 129.132.52.162\n",
            "Connecting to data.vision.ee.ethz.ch (data.vision.ee.ethz.ch)|129.132.52.162|:80... connected.\n",
            "HTTP request sent, awaiting response... 302 Found\n",
            "Location: https://data.vision.ee.ethz.ch/cvl/DIV2K/DIV2K_valid_LR_bicubic_X2.zip [following]\n",
            "--2019-11-18 17:54:30--  https://data.vision.ee.ethz.ch/cvl/DIV2K/DIV2K_valid_LR_bicubic_X2.zip\n",
            "Connecting to data.vision.ee.ethz.ch (data.vision.ee.ethz.ch)|129.132.52.162|:443... connected.\n",
            "HTTP request sent, awaiting response... 200 OK\n",
            "Length: 117763600 (112M) [application/zip]\n",
            "Saving to: ‘DIV2K_valid_LR_bicubic_X2.zip’\n",
            "\n",
            "DIV2K_valid_LR_bicu 100%[===================>] 112.31M  11.5MB/s    in 10s     \n",
            "\n",
            "2019-11-18 17:54:41 (10.9 MB/s) - ‘DIV2K_valid_LR_bicubic_X2.zip’ saved [117763600/117763600]\n",
            "\n",
            "--2019-11-18 17:54:42--  http://data.vision.ee.ethz.ch/cvl/DIV2K/DIV2K_train_LR_bicubic_X3.zip\n",
            "Resolving data.vision.ee.ethz.ch (data.vision.ee.ethz.ch)... 129.132.52.162\n",
            "Connecting to data.vision.ee.ethz.ch (data.vision.ee.ethz.ch)|129.132.52.162|:80... connected.\n",
            "HTTP request sent, awaiting response... 302 Found\n",
            "Location: https://data.vision.ee.ethz.ch/cvl/DIV2K/DIV2K_train_LR_bicubic_X3.zip [following]\n",
            "--2019-11-18 17:54:42--  https://data.vision.ee.ethz.ch/cvl/DIV2K/DIV2K_train_LR_bicubic_X3.zip\n",
            "Connecting to data.vision.ee.ethz.ch (data.vision.ee.ethz.ch)|129.132.52.162|:443... connected.\n",
            "HTTP request sent, awaiting response... 200 OK\n",
            "Length: 427847282 (408M) [application/zip]\n",
            "Saving to: ‘DIV2K_train_LR_bicubic_X3.zip’\n",
            "\n",
            "DIV2K_train_LR_bicu 100%[===================>] 408.03M  11.3MB/s    in 39s     \n",
            "\n",
            "2019-11-18 17:55:21 (10.6 MB/s) - ‘DIV2K_train_LR_bicubic_X3.zip’ saved [427847282/427847282]\n",
            "\n",
            "--2019-11-18 17:55:22--  http://data.vision.ee.ethz.ch/cvl/DIV2K/DIV2K_valid_LR_bicubic_X3.zip\n",
            "Resolving data.vision.ee.ethz.ch (data.vision.ee.ethz.ch)... 129.132.52.162\n",
            "Connecting to data.vision.ee.ethz.ch (data.vision.ee.ethz.ch)|129.132.52.162|:80... connected.\n",
            "HTTP request sent, awaiting response... 302 Found\n",
            "Location: https://data.vision.ee.ethz.ch/cvl/DIV2K/DIV2K_valid_LR_bicubic_X3.zip [following]\n",
            "--2019-11-18 17:55:22--  https://data.vision.ee.ethz.ch/cvl/DIV2K/DIV2K_valid_LR_bicubic_X3.zip\n",
            "Connecting to data.vision.ee.ethz.ch (data.vision.ee.ethz.ch)|129.132.52.162|:443... connected.\n",
            "HTTP request sent, awaiting response... 200 OK\n",
            "Length: 54513392 (52M) [application/zip]\n",
            "Saving to: ‘DIV2K_valid_LR_bicubic_X3.zip’\n",
            "\n",
            "DIV2K_valid_LR_bicu 100%[===================>]  51.99M  10.4MB/s    in 5.4s    \n",
            "\n",
            "2019-11-18 17:55:28 (9.71 MB/s) - ‘DIV2K_valid_LR_bicubic_X3.zip’ saved [54513392/54513392]\n",
            "\n",
            "--2019-11-18 17:55:28--  http://data.vision.ee.ethz.ch/cvl/DIV2K/DIV2K_train_LR_bicubic_X4.zip\n",
            "Resolving data.vision.ee.ethz.ch (data.vision.ee.ethz.ch)... 129.132.52.162\n",
            "Connecting to data.vision.ee.ethz.ch (data.vision.ee.ethz.ch)|129.132.52.162|:80... connected.\n",
            "HTTP request sent, awaiting response... 302 Found\n",
            "Location: https://data.vision.ee.ethz.ch/cvl/DIV2K/DIV2K_train_LR_bicubic_X4.zip [following]\n",
            "--2019-11-18 17:55:29--  https://data.vision.ee.ethz.ch/cvl/DIV2K/DIV2K_train_LR_bicubic_X4.zip\n",
            "Connecting to data.vision.ee.ethz.ch (data.vision.ee.ethz.ch)|129.132.52.162|:443... connected.\n",
            "HTTP request sent, awaiting response... 200 OK\n",
            "Length: 246914039 (235M) [application/zip]\n",
            "Saving to: ‘DIV2K_train_LR_bicubic_X4.zip’\n",
            "\n",
            "DIV2K_train_LR_bicu 100%[===================>] 235.47M  10.7MB/s    in 22s     \n",
            "\n",
            "2019-11-18 17:55:52 (10.5 MB/s) - ‘DIV2K_train_LR_bicubic_X4.zip’ saved [246914039/246914039]\n",
            "\n",
            "--2019-11-18 17:55:52--  http://data.vision.ee.ethz.ch/cvl/DIV2K/DIV2K_valid_LR_bicubic_X4.zip\n",
            "Resolving data.vision.ee.ethz.ch (data.vision.ee.ethz.ch)... 129.132.52.162\n",
            "Connecting to data.vision.ee.ethz.ch (data.vision.ee.ethz.ch)|129.132.52.162|:80... connected.\n",
            "HTTP request sent, awaiting response... 302 Found\n",
            "Location: https://data.vision.ee.ethz.ch/cvl/DIV2K/DIV2K_valid_LR_bicubic_X4.zip [following]\n",
            "--2019-11-18 17:55:53--  https://data.vision.ee.ethz.ch/cvl/DIV2K/DIV2K_valid_LR_bicubic_X4.zip\n",
            "Connecting to data.vision.ee.ethz.ch (data.vision.ee.ethz.ch)|129.132.52.162|:443... connected.\n",
            "HTTP request sent, awaiting response... 200 OK\n",
            "Length: 31505881 (30M) [application/zip]\n",
            "Saving to: ‘DIV2K_valid_LR_bicubic_X4.zip’\n",
            "\n",
            "DIV2K_valid_LR_bicu 100%[===================>]  30.05M  9.48MB/s    in 3.2s    \n",
            "\n",
            "2019-11-18 17:55:56 (9.48 MB/s) - ‘DIV2K_valid_LR_bicubic_X4.zip’ saved [31505881/31505881]\n",
            "\n",
            "--2019-11-18 17:55:57--  http://data.vision.ee.ethz.ch/cvl/DIV2K/DIV2K_train_LR_bicubic_X8.zip\n",
            "Resolving data.vision.ee.ethz.ch (data.vision.ee.ethz.ch)... 129.132.52.162\n",
            "Connecting to data.vision.ee.ethz.ch (data.vision.ee.ethz.ch)|129.132.52.162|:80... connected.\n",
            "HTTP request sent, awaiting response... 302 Found\n",
            "Location: https://data.vision.ee.ethz.ch/cvl/DIV2K/DIV2K_train_LR_bicubic_X8.zip [following]\n",
            "--2019-11-18 17:55:57--  https://data.vision.ee.ethz.ch/cvl/DIV2K/DIV2K_train_LR_bicubic_X8.zip\n",
            "Connecting to data.vision.ee.ethz.ch (data.vision.ee.ethz.ch)|129.132.52.162|:443... connected.\n",
            "HTTP request sent, awaiting response... 404 Not Found\n",
            "2019-11-18 17:55:58 ERROR 404: Not Found.\n",
            "\n",
            "--2019-11-18 17:55:59--  http://data.vision.ee.ethz.ch/cvl/DIV2K/DIV2K_valid_LR_bicubic_X8.zip\n",
            "Resolving data.vision.ee.ethz.ch (data.vision.ee.ethz.ch)... 129.132.52.162\n",
            "Connecting to data.vision.ee.ethz.ch (data.vision.ee.ethz.ch)|129.132.52.162|:80... connected.\n",
            "HTTP request sent, awaiting response... 302 Found\n",
            "Location: https://data.vision.ee.ethz.ch/cvl/DIV2K/DIV2K_valid_LR_bicubic_X8.zip [following]\n",
            "--2019-11-18 17:55:59--  https://data.vision.ee.ethz.ch/cvl/DIV2K/DIV2K_valid_LR_bicubic_X8.zip\n",
            "Connecting to data.vision.ee.ethz.ch (data.vision.ee.ethz.ch)|129.132.52.162|:443... connected.\n",
            "HTTP request sent, awaiting response... 404 Not Found\n",
            "2019-11-18 17:55:59 ERROR 404: Not Found.\n",
            "\n",
            "--2019-11-18 17:56:00--  http://data.vision.ee.ethz.ch/cvl/DIV2K/DIV2K_train_HR.zip\n",
            "Resolving data.vision.ee.ethz.ch (data.vision.ee.ethz.ch)... 129.132.52.162\n",
            "Connecting to data.vision.ee.ethz.ch (data.vision.ee.ethz.ch)|129.132.52.162|:80... connected.\n",
            "HTTP request sent, awaiting response... 302 Found\n",
            "Location: https://data.vision.ee.ethz.ch/cvl/DIV2K/DIV2K_train_HR.zip [following]\n",
            "--2019-11-18 17:56:00--  https://data.vision.ee.ethz.ch/cvl/DIV2K/DIV2K_train_HR.zip\n",
            "Connecting to data.vision.ee.ethz.ch (data.vision.ee.ethz.ch)|129.132.52.162|:443... connected.\n",
            "HTTP request sent, awaiting response... 200 OK\n",
            "Length: 3530603713 (3.3G) [application/zip]\n",
            "Saving to: ‘DIV2K_train_HR.zip’\n",
            "\n",
            "DIV2K_train_HR.zip  100%[===================>]   3.29G  12.6MB/s    in 4m 46s  \n",
            "\n",
            "2019-11-18 18:00:46 (11.8 MB/s) - ‘DIV2K_train_HR.zip’ saved [3530603713/3530603713]\n",
            "\n",
            "--2019-11-18 18:00:47--  http://data.vision.ee.ethz.ch/cvl/DIV2K/DIV2K_valid_HR.zip\n",
            "Resolving data.vision.ee.ethz.ch (data.vision.ee.ethz.ch)... 129.132.52.162\n",
            "Connecting to data.vision.ee.ethz.ch (data.vision.ee.ethz.ch)|129.132.52.162|:80... connected.\n",
            "HTTP request sent, awaiting response... 302 Found\n",
            "Location: https://data.vision.ee.ethz.ch/cvl/DIV2K/DIV2K_valid_HR.zip [following]\n",
            "--2019-11-18 18:00:47--  https://data.vision.ee.ethz.ch/cvl/DIV2K/DIV2K_valid_HR.zip\n",
            "Connecting to data.vision.ee.ethz.ch (data.vision.ee.ethz.ch)|129.132.52.162|:443... connected.\n",
            "HTTP request sent, awaiting response... 200 OK\n",
            "Length: 448993893 (428M) [application/zip]\n",
            "Saving to: ‘DIV2K_valid_HR.zip’\n",
            "\n",
            "DIV2K_valid_HR.zip  100%[===================>] 428.19M  11.8MB/s    in 38s     \n",
            "\n",
            "2019-11-18 18:01:26 (11.2 MB/s) - ‘DIV2K_valid_HR.zip’ saved [448993893/448993893]\n",
            "\n"
          ],
          "name": "stdout"
        }
      ]
    },
    {
      "cell_type": "code",
      "metadata": {
        "colab_type": "code",
        "id": "CMUgC2k21lC9",
        "colab": {
          "base_uri": "https://localhost:8080/",
          "height": 52
        },
        "outputId": "f691d154-2acd-47df-e9ac-c26e29e0271e"
      },
      "source": [
        "!mkdir div2k\n",
        "!unzip -q DIV2K_valid_LR_bicubic_X2.zip -d div2k\n",
        "!unzip -q DIV2K_train_LR_bicubic_X2.zip -d div2k\n",
        "!unzip -q DIV2K_valid_LR_bicubic_X3.zip -d div2k\n",
        "!unzip -q DIV2K_train_LR_bicubic_X3.zip -d div2k\n",
        "!unzip -q DIV2K_valid_LR_bicubic_X4.zip -d div2k\n",
        "!unzip -q DIV2K_train_LR_bicubic_X4.zip -d div2k\n",
        "!unzip -q DIV2K_valid_LR_x8.zip -d div2k\n",
        "!unzip -q DIV2K_train_LR_x8.zip -d div2k\n",
        "!unzip -q DIV2K_train_HR.zip -d div2k\n",
        "!unzip -q DIV2K_valid_HR.zip -d div2k"
      ],
      "execution_count": 3,
      "outputs": [
        {
          "output_type": "stream",
          "text": [
            "unzip:  cannot find or open DIV2K_valid_LR_bicubic_X8.zip, DIV2K_valid_LR_bicubic_X8.zip.zip or DIV2K_valid_LR_bicubic_X8.zip.ZIP.\n",
            "unzip:  cannot find or open DIV2K_train_LR_bicubic_X8.zip, DIV2K_train_LR_bicubic_X8.zip.zip or DIV2K_train_LR_bicubic_X8.zip.ZIP.\n"
          ],
          "name": "stdout"
        }
      ]
    },
    {
      "cell_type": "markdown",
      "metadata": {
        "colab_type": "text",
        "id": "LeNFEtJeNKTj"
      },
      "source": [
        "## Data pre-processing"
      ]
    },
    {
      "cell_type": "code",
      "metadata": {
        "colab_type": "code",
        "id": "8e2RSZq4BY_T",
        "outputId": "499ffb8e-bbd8-4035-fadb-76c3d17ff496",
        "colab": {
          "base_uri": "https://localhost:8080/",
          "height": 34
        }
      },
      "source": [
        "!python data_augment.py"
      ],
      "execution_count": 5,
      "outputs": [
        {
          "output_type": "stream",
          "text": [
            "python3: can't open file 'data_augment.py': [Errno 2] No such file or directory\n"
          ],
          "name": "stdout"
        }
      ]
    }
  ]
}